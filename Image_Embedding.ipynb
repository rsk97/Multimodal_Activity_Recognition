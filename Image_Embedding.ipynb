{
  "nbformat": 4,
  "nbformat_minor": 0,
  "metadata": {
    "colab": {
      "name": "Image_Embedding",
      "provenance": [],
      "collapsed_sections": []
    },
    "kernelspec": {
      "name": "python3",
      "display_name": "Python 3"
    },
    "accelerator": "GPU"
  },
  "cells": [
    {
      "cell_type": "code",
      "metadata": {
        "id": "45-GOv6dYUH1",
        "colab_type": "code",
        "colab": {}
      },
      "source": [
        "from google.colab import drive"
      ],
      "execution_count": 0,
      "outputs": []
    },
    {
      "cell_type": "code",
      "metadata": {
        "id": "zNYZm8EAYZ-v",
        "colab_type": "code",
        "outputId": "8ee86b85-ce2c-4b56-aedd-7421964993d8",
        "colab": {
          "base_uri": "https://localhost:8080/",
          "height": 34
        }
      },
      "source": [
        "drive.mount(\"/content/drive\")"
      ],
      "execution_count": 20,
      "outputs": [
        {
          "output_type": "stream",
          "text": [
            "Drive already mounted at /content/drive; to attempt to forcibly remount, call drive.mount(\"/content/drive\", force_remount=True).\n"
          ],
          "name": "stdout"
        }
      ]
    },
    {
      "cell_type": "code",
      "metadata": {
        "id": "ukI_7_UVF1oq",
        "colab_type": "code",
        "colab": {
          "base_uri": "https://localhost:8080/",
          "height": 34
        },
        "outputId": "b200c572-4791-460a-aa3a-39a1e7ac3153"
      },
      "source": [
        "\n",
        "%cd drive \n"
      ],
      "execution_count": 26,
      "outputs": [
        {
          "output_type": "stream",
          "text": [
            "/content/drive\n"
          ],
          "name": "stdout"
        }
      ]
    },
    {
      "cell_type": "code",
      "metadata": {
        "id": "2KE743GNa9fI",
        "colab_type": "code",
        "outputId": "b12d4425-36e1-465f-be3a-5ad526b920f1",
        "colab": {
          "base_uri": "https://localhost:8080/",
          "height": 34
        }
      },
      "source": [
        "!ls\n"
      ],
      "execution_count": 29,
      "outputs": [
        {
          "output_type": "stream",
          "text": [
            "'My Drive'\n"
          ],
          "name": "stdout"
        }
      ]
    },
    {
      "cell_type": "code",
      "metadata": {
        "id": "UYnyqlQSbRav",
        "colab_type": "code",
        "outputId": "febed0a6-442a-4ab9-bfa5-d0b4b4eed574",
        "colab": {
          "base_uri": "https://localhost:8080/",
          "height": 34
        }
      },
      "source": [
        "%cd 'My Drive'\n"
      ],
      "execution_count": 30,
      "outputs": [
        {
          "output_type": "stream",
          "text": [
            "/content/drive/My Drive\n"
          ],
          "name": "stdout"
        }
      ]
    },
    {
      "cell_type": "code",
      "metadata": {
        "id": "7MumfFQgb3P4",
        "colab_type": "code",
        "colab": {
          "base_uri": "https://localhost:8080/",
          "height": 34
        },
        "outputId": "66a726f3-fcea-4169-ca0f-0a0078b183e7"
      },
      "source": [
        "%cd 'CGM Project'"
      ],
      "execution_count": 31,
      "outputs": [
        {
          "output_type": "stream",
          "text": [
            "/content/drive/My Drive/CGM Project\n"
          ],
          "name": "stdout"
        }
      ]
    },
    {
      "cell_type": "code",
      "metadata": {
        "id": "PATOnIuCGvms",
        "colab_type": "code",
        "colab": {}
      },
      "source": [
        "import pandas as pd\n",
        "import glob\n",
        "import os\n",
        "import matplotlib.pyplot as plt\n",
        "from PIL import Image\n",
        "import numpy as np\n",
        "import math"
      ],
      "execution_count": 0,
      "outputs": []
    },
    {
      "cell_type": "code",
      "metadata": {
        "id": "31mKMsVhG0vV",
        "colab_type": "code",
        "colab": {}
      },
      "source": [
        "df = pd.read_csv('Charades_v1_train.csv')\n",
        "path = '/charades_v1_rgb/'\n",
        "dir_path = os.getcwd() + path\n",
        "ar = next(os.walk(dir_path))[1]\n",
        "#ar = ['0ZOPH', 'T7449', 'BA6DD', 'OVHFT', 'SH20Q', '5L04F', 'O2VP8', 'GPR89', '9EEGQ', 'PWR6D', '0RP6B', '0OP1K']\n"
      ],
      "execution_count": 0,
      "outputs": []
    },
    {
      "cell_type": "code",
      "metadata": {
        "id": "AAc6rS8jUDsV",
        "colab_type": "code",
        "colab": {}
      },
      "source": [
        "def load_image( infilename ) :\n",
        "    img = Image.open( infilename )\n",
        "    img.load()\n",
        "    data = np.asarray( img, dtype=\"int32\" )\n",
        "    return data"
      ],
      "execution_count": 0,
      "outputs": []
    },
    {
      "cell_type": "code",
      "metadata": {
        "id": "UpNEDNpKtSDP",
        "colab_type": "code",
        "colab": {}
      },
      "source": [
        "feature_extractor_url = \"https://tfhub.dev/google/tf2-preview/mobilenet_v2/feature_vector/2\" #@param {type:\"string\"}\n"
      ],
      "execution_count": 0,
      "outputs": []
    },
    {
      "cell_type": "code",
      "metadata": {
        "id": "dJPXFqo6tWN0",
        "colab_type": "code",
        "colab": {}
      },
      "source": [
        "from scipy import ndimage, misc\n",
        "import tensorflow_hub as hub\n",
        "import numpy as np\n",
        "\n",
        "feature_extractor_layer = hub.KerasLayer(feature_extractor_url, input_shape=(224,224,3))\n"
      ],
      "execution_count": 0,
      "outputs": []
    },
    {
      "cell_type": "code",
      "metadata": {
        "id": "fR7WW1zwIlJG",
        "colab_type": "code",
        "outputId": "f92cd0d2-a864-41f0-d803-5f3bd9adadd6",
        "colab": {
          "base_uri": "https://localhost:8080/",
          "height": 1000
        }
      },
      "source": [
        "action_frames = {}\n",
        "\n",
        "for j in range(len(ar)):\n",
        "  action_frames[ar[j]] = {}\n",
        "\n",
        "for i in range(len(df)):\n",
        "  for j in range(len(ar)):\n",
        "    if(df.loc[i, \"id\"] == ar[j]):\n",
        "      actions = df.loc[i, \"actions\"].split(\";\")\n",
        "      v_id = df.loc[i, \"id\"]\n",
        "      frames = []\n",
        "      video_path = os.getcwd() + path + v_id\n",
        "      print(video_path)\n",
        "      for r, d, f in os.walk(video_path):     \n",
        "        for files in f:\n",
        "          nar = load_image(video_path + '/' + files)\n",
        "          frames.append(nar)\n",
        "      frames = frames[:-1]\n",
        "      req_frames = {}\n",
        "      for k in range(len(actions)):\n",
        "        label, start, end = actions[k].split(' ')\n",
        "        req_frames[label] = []\n",
        "      for p in range(len(frames)):\n",
        "        for k in range(len(actions)):\n",
        "          label, start, end = actions[k].split(' ')\n",
        "          startframe = math.floor(float(start) * 24)\n",
        "          endframe = math.floor(float(end) * 24)\n",
        "          if(p >= startframe and p <= endframe):\n",
        "            req_frames[label].append(frames[p])\n",
        "      imp_frames = {}\n",
        "      for k in range(len(actions)):\n",
        "        label, start, end = actions[k].split(' ')\n",
        "        imp_frames[label] = []\n",
        "        for p in range(len(req_frames[label])):\n",
        "          matches = 0\n",
        "          for q in range(len(imp_frames[label])):\n",
        "            if((np.sum(np.bitwise_xor(req_frames[label][p], imp_frames[label][q])) / np.sum(req_frames[label][p])) < 0.2):\n",
        "              matches += 1\n",
        "              break\n",
        "          if(matches == 0):\n",
        "            imp_frames[label].append(req_frames[label][p])\n",
        "        print(len(req_frames[label]), len(imp_frames[label]))\n",
        "      action_frames[ar[j]] = imp_frames\n",
        "print(action_frames)\n",
        "\n",
        "\n",
        "              \n",
        "  "
      ],
      "execution_count": 0,
      "outputs": [
        {
          "output_type": "stream",
          "text": [
            "/content/drive/My Drive/CGM Project/charades_v1_rgb/OVHFT\n",
            "241 46\n",
            "225 45\n",
            "159 42\n",
            "189 37\n",
            "174 38\n",
            "189 37\n",
            "189 37\n",
            "128 31\n",
            "171 40\n",
            "128 35\n",
            "/content/drive/My Drive/CGM Project/charades_v1_rgb/PWR6D\n",
            "644 83\n",
            "744 86\n",
            "238 57\n",
            "560 79\n",
            "744 86\n",
            "/content/drive/My Drive/CGM Project/charades_v1_rgb/0ZOPH\n",
            "150 50\n",
            "527 108\n",
            "101 43\n",
            "121 44\n",
            "201 67\n",
            "/content/drive/My Drive/CGM Project/charades_v1_rgb/5L04F\n",
            "692 1\n",
            "390 1\n",
            "178 1\n",
            "390 1\n",
            "692 1\n",
            "692 1\n",
            "/content/drive/My Drive/CGM Project/charades_v1_rgb/BA6DD\n",
            "826 140\n",
            "/content/drive/My Drive/CGM Project/charades_v1_rgb/GPR89\n",
            "140 24\n",
            "281 30\n",
            "620 48\n",
            "347 35\n",
            "473 39\n",
            "253 26\n",
            "1294 63\n",
            "140 24\n",
            "/content/drive/My Drive/CGM Project/charades_v1_rgb/T7449\n",
            "651 18\n",
            "651 18\n",
            "651 18\n",
            "644 19\n",
            "651 18\n",
            "/content/drive/My Drive/CGM Project/charades_v1_rgb/0RP6B\n",
            "556 44\n",
            "201 34\n",
            "539 43\n",
            "248 34\n",
            "167 33\n",
            "123 29\n",
            "145 26\n",
            "114 25\n",
            "237 39\n",
            "635 44\n",
            "635 44\n",
            "/content/drive/My Drive/CGM Project/charades_v1_rgb/O2VP8\n",
            "217 160\n",
            "174 137\n",
            "646 275\n",
            "117 103\n",
            "481 251\n"
          ],
          "name": "stdout"
        },
        {
          "output_type": "stream",
          "text": [
            "IOPub data rate exceeded.\n",
            "The notebook server will temporarily stop sending output\n",
            "to the client in order to avoid crashing it.\n",
            "To change this limit, set the config variable\n",
            "`--NotebookApp.iopub_data_rate_limit`.\n",
            "\n",
            "Current values:\n",
            "NotebookApp.iopub_data_rate_limit=1000000.0 (bytes/sec)\n",
            "NotebookApp.rate_limit_window=3.0 (secs)\n",
            "\n"
          ],
          "name": "stderr"
        }
      ]
    },
    {
      "cell_type": "code",
      "metadata": {
        "id": "K65W0mAuD8bE",
        "colab_type": "code",
        "outputId": "65893a94-7080-4dc0-bc15-1720a125b110",
        "colab": {
          "base_uri": "https://localhost:8080/",
          "height": 278
        }
      },
      "source": [
        "import tensorflow as tf\n",
        "\n",
        "imb = tf.placeholder(dtype=tf.float32, shape=(None,224,224,3))\n",
        "feature_batch = feature_extractor_layer(imb)\n",
        "sess = tf.InteractiveSession()\n",
        "sess.run(tf.global_variables_initializer())\n",
        "#temp = sess.run(feature_batch, feed_dict= {imb: image_batch})"
      ],
      "execution_count": 33,
      "outputs": [
        {
          "output_type": "display_data",
          "data": {
            "text/html": [
              "<p style=\"color: red;\">\n",
              "The default version of TensorFlow in Colab will soon switch to TensorFlow 2.x.<br>\n",
              "We recommend you <a href=\"https://www.tensorflow.org/guide/migrate\" target=\"_blank\">upgrade</a> now \n",
              "or ensure your notebook will continue to use TensorFlow 1.x via the <code>%tensorflow_version 1.x</code> magic:\n",
              "<a href=\"https://colab.research.google.com/notebooks/tensorflow_version.ipynb\" target=\"_blank\">more info</a>.</p>\n"
            ],
            "text/plain": [
              "<IPython.core.display.HTML object>"
            ]
          },
          "metadata": {
            "tags": []
          }
        },
        {
          "output_type": "error",
          "ename": "NameError",
          "evalue": "ignored",
          "traceback": [
            "\u001b[0;31m---------------------------------------------------------------------------\u001b[0m",
            "\u001b[0;31mNameError\u001b[0m                                 Traceback (most recent call last)",
            "\u001b[0;32m<ipython-input-33-27df38bd2571>\u001b[0m in \u001b[0;36m<module>\u001b[0;34m()\u001b[0m\n\u001b[1;32m      2\u001b[0m \u001b[0;34m\u001b[0m\u001b[0m\n\u001b[1;32m      3\u001b[0m \u001b[0mimb\u001b[0m \u001b[0;34m=\u001b[0m \u001b[0mtf\u001b[0m\u001b[0;34m.\u001b[0m\u001b[0mplaceholder\u001b[0m\u001b[0;34m(\u001b[0m\u001b[0mdtype\u001b[0m\u001b[0;34m=\u001b[0m\u001b[0mtf\u001b[0m\u001b[0;34m.\u001b[0m\u001b[0mfloat32\u001b[0m\u001b[0;34m,\u001b[0m \u001b[0mshape\u001b[0m\u001b[0;34m=\u001b[0m\u001b[0;34m(\u001b[0m\u001b[0;32mNone\u001b[0m\u001b[0;34m,\u001b[0m\u001b[0;36m224\u001b[0m\u001b[0;34m,\u001b[0m\u001b[0;36m224\u001b[0m\u001b[0;34m,\u001b[0m\u001b[0;36m3\u001b[0m\u001b[0;34m)\u001b[0m\u001b[0;34m)\u001b[0m\u001b[0;34m\u001b[0m\u001b[0;34m\u001b[0m\u001b[0m\n\u001b[0;32m----> 4\u001b[0;31m \u001b[0mfeature_batch\u001b[0m \u001b[0;34m=\u001b[0m \u001b[0mfeature_extractor_layer\u001b[0m\u001b[0;34m(\u001b[0m\u001b[0mimb\u001b[0m\u001b[0;34m)\u001b[0m\u001b[0;34m\u001b[0m\u001b[0;34m\u001b[0m\u001b[0m\n\u001b[0m\u001b[1;32m      5\u001b[0m \u001b[0msess\u001b[0m \u001b[0;34m=\u001b[0m \u001b[0mtf\u001b[0m\u001b[0;34m.\u001b[0m\u001b[0mInteractiveSession\u001b[0m\u001b[0;34m(\u001b[0m\u001b[0;34m)\u001b[0m\u001b[0;34m\u001b[0m\u001b[0;34m\u001b[0m\u001b[0m\n\u001b[1;32m      6\u001b[0m \u001b[0msess\u001b[0m\u001b[0;34m.\u001b[0m\u001b[0mrun\u001b[0m\u001b[0;34m(\u001b[0m\u001b[0mtf\u001b[0m\u001b[0;34m.\u001b[0m\u001b[0mglobal_variables_initializer\u001b[0m\u001b[0;34m(\u001b[0m\u001b[0;34m)\u001b[0m\u001b[0;34m)\u001b[0m\u001b[0;34m\u001b[0m\u001b[0;34m\u001b[0m\u001b[0m\n",
            "\u001b[0;31mNameError\u001b[0m: name 'feature_extractor_layer' is not defined"
          ]
        }
      ]
    },
    {
      "cell_type": "code",
      "metadata": {
        "id": "RRPd7hdC7u8i",
        "colab_type": "code",
        "outputId": "a645bca8-dc26-4b66-e5fa-395fa0e1576f",
        "colab": {
          "base_uri": "https://localhost:8080/",
          "height": 1000
        }
      },
      "source": [
        "from PIL import Image\n",
        "import matplotlib.pyplot as plt\n",
        "%matplotlib inline\n",
        "\n",
        "ma =250\n",
        "file_batch = np.zeros(shape=(1,ma,1280))\n",
        "for a in ar:\n",
        "  image_batch = np.zeros(shape=(1,224,224,3))\n",
        "  for k, action in action_frames[a].items():\n",
        "    #print(len(action))\n",
        "    for images in action:\n",
        "      #print(np.shape(images))\n",
        "      #plt.imshow(images)\n",
        "      #plt.show()\n",
        "      im = np.resize(images,[224,224,3])\n",
        "      #print(np.shape(im))\n",
        "      im = np.expand_dims(im, axis = 0)\n",
        "      #print(np.shape(im))\n",
        "      image_batch = np.vstack((image_batch,im))\n",
        "      #print(np.shape(image_batch))\n",
        "    break\n",
        "  image_batch = image_batch[1:]\n",
        "  temp = sess.run(feature_batch, feed_dict= {imb: image_batch})\n",
        "  stk=np.zeros(shape = (ma-temp.shape[0],1280))\n",
        "  new_temp = np.vstack((stk, temp))\n",
        "  new_temp = np.expand_dims(new_temp, 0)\n",
        "  file_batch = np.vstack((file_batch,new_temp))\n",
        "  #print(file_batch.shape)\n",
        "    \n",
        "\n",
        "  \n"
      ],
      "execution_count": 0,
      "outputs": [
        {
          "output_type": "stream",
          "text": [
            "(2, 224, 224, 3)\n",
            "(3, 224, 224, 3)\n",
            "(4, 224, 224, 3)\n",
            "(5, 224, 224, 3)\n",
            "(6, 224, 224, 3)\n",
            "(7, 224, 224, 3)\n",
            "(8, 224, 224, 3)\n",
            "(9, 224, 224, 3)\n",
            "(10, 224, 224, 3)\n",
            "(11, 224, 224, 3)\n",
            "(12, 224, 224, 3)\n",
            "(13, 224, 224, 3)\n",
            "(14, 224, 224, 3)\n",
            "(15, 224, 224, 3)\n",
            "(16, 224, 224, 3)\n",
            "(17, 224, 224, 3)\n",
            "(18, 224, 224, 3)\n",
            "(19, 224, 224, 3)\n",
            "(20, 224, 224, 3)\n",
            "(21, 224, 224, 3)\n",
            "(22, 224, 224, 3)\n",
            "(23, 224, 224, 3)\n",
            "(24, 224, 224, 3)\n",
            "(25, 224, 224, 3)\n",
            "(26, 224, 224, 3)\n",
            "(27, 224, 224, 3)\n",
            "(28, 224, 224, 3)\n",
            "(29, 224, 224, 3)\n",
            "(30, 224, 224, 3)\n",
            "(31, 224, 224, 3)\n",
            "(32, 224, 224, 3)\n",
            "(33, 224, 224, 3)\n",
            "(34, 224, 224, 3)\n",
            "(35, 224, 224, 3)\n",
            "(36, 224, 224, 3)\n",
            "(37, 224, 224, 3)\n",
            "(38, 224, 224, 3)\n",
            "(39, 224, 224, 3)\n",
            "(40, 224, 224, 3)\n",
            "(41, 224, 224, 3)\n",
            "(42, 224, 224, 3)\n",
            "(43, 224, 224, 3)\n",
            "(44, 224, 224, 3)\n",
            "(45, 224, 224, 3)\n",
            "(46, 224, 224, 3)\n",
            "(47, 224, 224, 3)\n",
            "(48, 224, 224, 3)\n",
            "(49, 224, 224, 3)\n",
            "(50, 224, 224, 3)\n",
            "(51, 224, 224, 3)\n",
            "(2, 250, 1280)\n",
            "(2, 224, 224, 3)\n",
            "(3, 224, 224, 3)\n",
            "(4, 224, 224, 3)\n",
            "(5, 224, 224, 3)\n",
            "(6, 224, 224, 3)\n",
            "(7, 224, 224, 3)\n",
            "(8, 224, 224, 3)\n",
            "(9, 224, 224, 3)\n",
            "(10, 224, 224, 3)\n",
            "(11, 224, 224, 3)\n",
            "(12, 224, 224, 3)\n",
            "(13, 224, 224, 3)\n",
            "(14, 224, 224, 3)\n",
            "(15, 224, 224, 3)\n",
            "(16, 224, 224, 3)\n",
            "(17, 224, 224, 3)\n",
            "(18, 224, 224, 3)\n",
            "(19, 224, 224, 3)\n",
            "(3, 250, 1280)\n",
            "(2, 224, 224, 3)\n",
            "(3, 224, 224, 3)\n",
            "(4, 224, 224, 3)\n",
            "(5, 224, 224, 3)\n",
            "(6, 224, 224, 3)\n",
            "(7, 224, 224, 3)\n",
            "(8, 224, 224, 3)\n",
            "(9, 224, 224, 3)\n",
            "(10, 224, 224, 3)\n",
            "(11, 224, 224, 3)\n",
            "(12, 224, 224, 3)\n",
            "(13, 224, 224, 3)\n",
            "(14, 224, 224, 3)\n",
            "(15, 224, 224, 3)\n",
            "(16, 224, 224, 3)\n",
            "(17, 224, 224, 3)\n",
            "(18, 224, 224, 3)\n",
            "(19, 224, 224, 3)\n",
            "(20, 224, 224, 3)\n",
            "(21, 224, 224, 3)\n",
            "(22, 224, 224, 3)\n",
            "(23, 224, 224, 3)\n",
            "(24, 224, 224, 3)\n",
            "(25, 224, 224, 3)\n",
            "(26, 224, 224, 3)\n",
            "(27, 224, 224, 3)\n",
            "(28, 224, 224, 3)\n",
            "(29, 224, 224, 3)\n",
            "(30, 224, 224, 3)\n",
            "(31, 224, 224, 3)\n",
            "(32, 224, 224, 3)\n",
            "(33, 224, 224, 3)\n",
            "(34, 224, 224, 3)\n",
            "(35, 224, 224, 3)\n",
            "(36, 224, 224, 3)\n",
            "(37, 224, 224, 3)\n",
            "(38, 224, 224, 3)\n",
            "(39, 224, 224, 3)\n",
            "(40, 224, 224, 3)\n",
            "(41, 224, 224, 3)\n",
            "(42, 224, 224, 3)\n",
            "(43, 224, 224, 3)\n",
            "(44, 224, 224, 3)\n",
            "(45, 224, 224, 3)\n",
            "(46, 224, 224, 3)\n",
            "(47, 224, 224, 3)\n",
            "(48, 224, 224, 3)\n",
            "(49, 224, 224, 3)\n",
            "(50, 224, 224, 3)\n",
            "(51, 224, 224, 3)\n",
            "(52, 224, 224, 3)\n",
            "(53, 224, 224, 3)\n",
            "(54, 224, 224, 3)\n",
            "(55, 224, 224, 3)\n",
            "(56, 224, 224, 3)\n",
            "(57, 224, 224, 3)\n",
            "(58, 224, 224, 3)\n",
            "(59, 224, 224, 3)\n",
            "(60, 224, 224, 3)\n",
            "(61, 224, 224, 3)\n",
            "(62, 224, 224, 3)\n",
            "(63, 224, 224, 3)\n",
            "(64, 224, 224, 3)\n",
            "(65, 224, 224, 3)\n",
            "(66, 224, 224, 3)\n",
            "(67, 224, 224, 3)\n",
            "(68, 224, 224, 3)\n",
            "(69, 224, 224, 3)\n",
            "(70, 224, 224, 3)\n",
            "(71, 224, 224, 3)\n",
            "(72, 224, 224, 3)\n",
            "(73, 224, 224, 3)\n",
            "(74, 224, 224, 3)\n",
            "(75, 224, 224, 3)\n",
            "(76, 224, 224, 3)\n",
            "(77, 224, 224, 3)\n",
            "(78, 224, 224, 3)\n",
            "(79, 224, 224, 3)\n",
            "(80, 224, 224, 3)\n",
            "(81, 224, 224, 3)\n",
            "(82, 224, 224, 3)\n",
            "(83, 224, 224, 3)\n",
            "(84, 224, 224, 3)\n",
            "(85, 224, 224, 3)\n",
            "(86, 224, 224, 3)\n",
            "(87, 224, 224, 3)\n",
            "(88, 224, 224, 3)\n",
            "(89, 224, 224, 3)\n",
            "(90, 224, 224, 3)\n",
            "(91, 224, 224, 3)\n",
            "(92, 224, 224, 3)\n",
            "(93, 224, 224, 3)\n",
            "(94, 224, 224, 3)\n",
            "(95, 224, 224, 3)\n",
            "(96, 224, 224, 3)\n",
            "(97, 224, 224, 3)\n",
            "(98, 224, 224, 3)\n",
            "(99, 224, 224, 3)\n",
            "(100, 224, 224, 3)\n",
            "(101, 224, 224, 3)\n",
            "(102, 224, 224, 3)\n",
            "(103, 224, 224, 3)\n",
            "(104, 224, 224, 3)\n",
            "(105, 224, 224, 3)\n",
            "(106, 224, 224, 3)\n",
            "(107, 224, 224, 3)\n",
            "(108, 224, 224, 3)\n",
            "(109, 224, 224, 3)\n",
            "(110, 224, 224, 3)\n",
            "(111, 224, 224, 3)\n",
            "(112, 224, 224, 3)\n",
            "(113, 224, 224, 3)\n",
            "(114, 224, 224, 3)\n",
            "(115, 224, 224, 3)\n",
            "(116, 224, 224, 3)\n",
            "(117, 224, 224, 3)\n",
            "(118, 224, 224, 3)\n",
            "(119, 224, 224, 3)\n",
            "(120, 224, 224, 3)\n",
            "(121, 224, 224, 3)\n",
            "(122, 224, 224, 3)\n",
            "(123, 224, 224, 3)\n",
            "(124, 224, 224, 3)\n",
            "(125, 224, 224, 3)\n",
            "(126, 224, 224, 3)\n",
            "(127, 224, 224, 3)\n",
            "(128, 224, 224, 3)\n",
            "(129, 224, 224, 3)\n",
            "(130, 224, 224, 3)\n",
            "(131, 224, 224, 3)\n",
            "(132, 224, 224, 3)\n",
            "(133, 224, 224, 3)\n",
            "(134, 224, 224, 3)\n",
            "(135, 224, 224, 3)\n",
            "(136, 224, 224, 3)\n",
            "(137, 224, 224, 3)\n",
            "(138, 224, 224, 3)\n",
            "(139, 224, 224, 3)\n",
            "(140, 224, 224, 3)\n",
            "(141, 224, 224, 3)\n",
            "(4, 250, 1280)\n",
            "(2, 224, 224, 3)\n",
            "(3, 224, 224, 3)\n",
            "(4, 224, 224, 3)\n",
            "(5, 224, 224, 3)\n",
            "(6, 224, 224, 3)\n",
            "(7, 224, 224, 3)\n",
            "(8, 224, 224, 3)\n",
            "(9, 224, 224, 3)\n",
            "(10, 224, 224, 3)\n",
            "(11, 224, 224, 3)\n",
            "(12, 224, 224, 3)\n",
            "(13, 224, 224, 3)\n",
            "(14, 224, 224, 3)\n",
            "(15, 224, 224, 3)\n",
            "(16, 224, 224, 3)\n",
            "(17, 224, 224, 3)\n",
            "(18, 224, 224, 3)\n",
            "(19, 224, 224, 3)\n",
            "(20, 224, 224, 3)\n",
            "(21, 224, 224, 3)\n",
            "(22, 224, 224, 3)\n",
            "(23, 224, 224, 3)\n",
            "(24, 224, 224, 3)\n",
            "(25, 224, 224, 3)\n",
            "(26, 224, 224, 3)\n",
            "(27, 224, 224, 3)\n",
            "(28, 224, 224, 3)\n",
            "(29, 224, 224, 3)\n",
            "(30, 224, 224, 3)\n",
            "(31, 224, 224, 3)\n",
            "(32, 224, 224, 3)\n",
            "(33, 224, 224, 3)\n",
            "(34, 224, 224, 3)\n",
            "(35, 224, 224, 3)\n",
            "(36, 224, 224, 3)\n",
            "(37, 224, 224, 3)\n",
            "(38, 224, 224, 3)\n",
            "(39, 224, 224, 3)\n",
            "(40, 224, 224, 3)\n",
            "(41, 224, 224, 3)\n",
            "(42, 224, 224, 3)\n",
            "(43, 224, 224, 3)\n",
            "(44, 224, 224, 3)\n",
            "(45, 224, 224, 3)\n",
            "(46, 224, 224, 3)\n",
            "(47, 224, 224, 3)\n",
            "(5, 250, 1280)\n",
            "(6, 250, 1280)\n",
            "(2, 224, 224, 3)\n",
            "(7, 250, 1280)\n",
            "(2, 224, 224, 3)\n",
            "(3, 224, 224, 3)\n",
            "(4, 224, 224, 3)\n",
            "(5, 224, 224, 3)\n",
            "(6, 224, 224, 3)\n",
            "(7, 224, 224, 3)\n",
            "(8, 224, 224, 3)\n",
            "(9, 224, 224, 3)\n",
            "(10, 224, 224, 3)\n",
            "(11, 224, 224, 3)\n",
            "(12, 224, 224, 3)\n",
            "(13, 224, 224, 3)\n",
            "(14, 224, 224, 3)\n",
            "(15, 224, 224, 3)\n",
            "(16, 224, 224, 3)\n",
            "(17, 224, 224, 3)\n",
            "(18, 224, 224, 3)\n",
            "(19, 224, 224, 3)\n",
            "(20, 224, 224, 3)\n",
            "(21, 224, 224, 3)\n",
            "(22, 224, 224, 3)\n",
            "(23, 224, 224, 3)\n",
            "(24, 224, 224, 3)\n",
            "(25, 224, 224, 3)\n",
            "(26, 224, 224, 3)\n",
            "(27, 224, 224, 3)\n",
            "(28, 224, 224, 3)\n",
            "(29, 224, 224, 3)\n",
            "(30, 224, 224, 3)\n",
            "(31, 224, 224, 3)\n",
            "(32, 224, 224, 3)\n",
            "(33, 224, 224, 3)\n",
            "(34, 224, 224, 3)\n",
            "(35, 224, 224, 3)\n",
            "(36, 224, 224, 3)\n",
            "(37, 224, 224, 3)\n",
            "(38, 224, 224, 3)\n",
            "(39, 224, 224, 3)\n",
            "(40, 224, 224, 3)\n",
            "(41, 224, 224, 3)\n",
            "(42, 224, 224, 3)\n",
            "(43, 224, 224, 3)\n",
            "(44, 224, 224, 3)\n",
            "(45, 224, 224, 3)\n",
            "(46, 224, 224, 3)\n",
            "(47, 224, 224, 3)\n",
            "(48, 224, 224, 3)\n",
            "(49, 224, 224, 3)\n",
            "(50, 224, 224, 3)\n",
            "(51, 224, 224, 3)\n",
            "(52, 224, 224, 3)\n",
            "(53, 224, 224, 3)\n",
            "(54, 224, 224, 3)\n",
            "(55, 224, 224, 3)\n",
            "(56, 224, 224, 3)\n",
            "(57, 224, 224, 3)\n",
            "(58, 224, 224, 3)\n",
            "(59, 224, 224, 3)\n",
            "(60, 224, 224, 3)\n",
            "(61, 224, 224, 3)\n",
            "(62, 224, 224, 3)\n",
            "(63, 224, 224, 3)\n",
            "(64, 224, 224, 3)\n",
            "(65, 224, 224, 3)\n",
            "(66, 224, 224, 3)\n",
            "(67, 224, 224, 3)\n",
            "(68, 224, 224, 3)\n",
            "(69, 224, 224, 3)\n",
            "(70, 224, 224, 3)\n",
            "(71, 224, 224, 3)\n",
            "(72, 224, 224, 3)\n",
            "(73, 224, 224, 3)\n",
            "(74, 224, 224, 3)\n",
            "(75, 224, 224, 3)\n",
            "(76, 224, 224, 3)\n",
            "(77, 224, 224, 3)\n",
            "(78, 224, 224, 3)\n",
            "(79, 224, 224, 3)\n",
            "(80, 224, 224, 3)\n",
            "(81, 224, 224, 3)\n",
            "(82, 224, 224, 3)\n",
            "(83, 224, 224, 3)\n",
            "(84, 224, 224, 3)\n",
            "(85, 224, 224, 3)\n",
            "(86, 224, 224, 3)\n",
            "(87, 224, 224, 3)\n",
            "(88, 224, 224, 3)\n",
            "(89, 224, 224, 3)\n",
            "(90, 224, 224, 3)\n",
            "(91, 224, 224, 3)\n",
            "(92, 224, 224, 3)\n",
            "(93, 224, 224, 3)\n",
            "(94, 224, 224, 3)\n",
            "(95, 224, 224, 3)\n",
            "(96, 224, 224, 3)\n",
            "(97, 224, 224, 3)\n",
            "(98, 224, 224, 3)\n",
            "(99, 224, 224, 3)\n",
            "(100, 224, 224, 3)\n",
            "(101, 224, 224, 3)\n",
            "(102, 224, 224, 3)\n",
            "(103, 224, 224, 3)\n",
            "(104, 224, 224, 3)\n",
            "(105, 224, 224, 3)\n",
            "(106, 224, 224, 3)\n",
            "(107, 224, 224, 3)\n",
            "(108, 224, 224, 3)\n",
            "(109, 224, 224, 3)\n",
            "(110, 224, 224, 3)\n",
            "(111, 224, 224, 3)\n",
            "(112, 224, 224, 3)\n",
            "(113, 224, 224, 3)\n",
            "(114, 224, 224, 3)\n",
            "(115, 224, 224, 3)\n",
            "(116, 224, 224, 3)\n",
            "(117, 224, 224, 3)\n",
            "(118, 224, 224, 3)\n",
            "(119, 224, 224, 3)\n",
            "(120, 224, 224, 3)\n",
            "(121, 224, 224, 3)\n",
            "(122, 224, 224, 3)\n",
            "(123, 224, 224, 3)\n",
            "(124, 224, 224, 3)\n",
            "(125, 224, 224, 3)\n",
            "(126, 224, 224, 3)\n",
            "(127, 224, 224, 3)\n",
            "(128, 224, 224, 3)\n",
            "(129, 224, 224, 3)\n",
            "(130, 224, 224, 3)\n",
            "(131, 224, 224, 3)\n",
            "(132, 224, 224, 3)\n",
            "(133, 224, 224, 3)\n",
            "(134, 224, 224, 3)\n",
            "(135, 224, 224, 3)\n",
            "(136, 224, 224, 3)\n",
            "(137, 224, 224, 3)\n",
            "(138, 224, 224, 3)\n",
            "(139, 224, 224, 3)\n",
            "(140, 224, 224, 3)\n",
            "(141, 224, 224, 3)\n",
            "(142, 224, 224, 3)\n",
            "(143, 224, 224, 3)\n",
            "(144, 224, 224, 3)\n",
            "(145, 224, 224, 3)\n",
            "(146, 224, 224, 3)\n",
            "(147, 224, 224, 3)\n",
            "(148, 224, 224, 3)\n",
            "(149, 224, 224, 3)\n",
            "(150, 224, 224, 3)\n",
            "(151, 224, 224, 3)\n",
            "(152, 224, 224, 3)\n",
            "(153, 224, 224, 3)\n",
            "(154, 224, 224, 3)\n",
            "(155, 224, 224, 3)\n",
            "(156, 224, 224, 3)\n",
            "(157, 224, 224, 3)\n",
            "(158, 224, 224, 3)\n",
            "(159, 224, 224, 3)\n",
            "(160, 224, 224, 3)\n",
            "(161, 224, 224, 3)\n",
            "(8, 250, 1280)\n",
            "(2, 224, 224, 3)\n",
            "(3, 224, 224, 3)\n",
            "(4, 224, 224, 3)\n",
            "(5, 224, 224, 3)\n",
            "(6, 224, 224, 3)\n",
            "(7, 224, 224, 3)\n",
            "(8, 224, 224, 3)\n",
            "(9, 224, 224, 3)\n",
            "(10, 224, 224, 3)\n",
            "(11, 224, 224, 3)\n",
            "(12, 224, 224, 3)\n",
            "(13, 224, 224, 3)\n",
            "(14, 224, 224, 3)\n",
            "(15, 224, 224, 3)\n",
            "(16, 224, 224, 3)\n",
            "(17, 224, 224, 3)\n",
            "(18, 224, 224, 3)\n",
            "(19, 224, 224, 3)\n",
            "(20, 224, 224, 3)\n",
            "(21, 224, 224, 3)\n",
            "(22, 224, 224, 3)\n",
            "(23, 224, 224, 3)\n",
            "(24, 224, 224, 3)\n",
            "(25, 224, 224, 3)\n",
            "(9, 250, 1280)\n",
            "(10, 250, 1280)\n",
            "(2, 224, 224, 3)\n",
            "(3, 224, 224, 3)\n",
            "(4, 224, 224, 3)\n",
            "(5, 224, 224, 3)\n",
            "(6, 224, 224, 3)\n",
            "(7, 224, 224, 3)\n",
            "(8, 224, 224, 3)\n",
            "(9, 224, 224, 3)\n",
            "(10, 224, 224, 3)\n",
            "(11, 224, 224, 3)\n",
            "(12, 224, 224, 3)\n",
            "(13, 224, 224, 3)\n",
            "(14, 224, 224, 3)\n",
            "(15, 224, 224, 3)\n",
            "(16, 224, 224, 3)\n",
            "(17, 224, 224, 3)\n",
            "(18, 224, 224, 3)\n",
            "(19, 224, 224, 3)\n",
            "(20, 224, 224, 3)\n",
            "(21, 224, 224, 3)\n",
            "(22, 224, 224, 3)\n",
            "(23, 224, 224, 3)\n",
            "(24, 224, 224, 3)\n",
            "(25, 224, 224, 3)\n",
            "(26, 224, 224, 3)\n",
            "(27, 224, 224, 3)\n",
            "(28, 224, 224, 3)\n",
            "(29, 224, 224, 3)\n",
            "(30, 224, 224, 3)\n",
            "(31, 224, 224, 3)\n",
            "(32, 224, 224, 3)\n",
            "(33, 224, 224, 3)\n",
            "(34, 224, 224, 3)\n",
            "(35, 224, 224, 3)\n",
            "(36, 224, 224, 3)\n",
            "(37, 224, 224, 3)\n",
            "(38, 224, 224, 3)\n",
            "(39, 224, 224, 3)\n",
            "(40, 224, 224, 3)\n",
            "(41, 224, 224, 3)\n",
            "(42, 224, 224, 3)\n",
            "(43, 224, 224, 3)\n",
            "(44, 224, 224, 3)\n",
            "(45, 224, 224, 3)\n",
            "(46, 224, 224, 3)\n",
            "(47, 224, 224, 3)\n",
            "(48, 224, 224, 3)\n",
            "(49, 224, 224, 3)\n",
            "(50, 224, 224, 3)\n",
            "(51, 224, 224, 3)\n",
            "(52, 224, 224, 3)\n",
            "(53, 224, 224, 3)\n",
            "(54, 224, 224, 3)\n",
            "(55, 224, 224, 3)\n",
            "(56, 224, 224, 3)\n",
            "(57, 224, 224, 3)\n",
            "(58, 224, 224, 3)\n",
            "(59, 224, 224, 3)\n",
            "(60, 224, 224, 3)\n",
            "(61, 224, 224, 3)\n",
            "(62, 224, 224, 3)\n",
            "(63, 224, 224, 3)\n",
            "(64, 224, 224, 3)\n",
            "(65, 224, 224, 3)\n",
            "(66, 224, 224, 3)\n",
            "(67, 224, 224, 3)\n",
            "(68, 224, 224, 3)\n",
            "(69, 224, 224, 3)\n",
            "(70, 224, 224, 3)\n",
            "(71, 224, 224, 3)\n",
            "(72, 224, 224, 3)\n",
            "(73, 224, 224, 3)\n",
            "(74, 224, 224, 3)\n",
            "(75, 224, 224, 3)\n",
            "(76, 224, 224, 3)\n",
            "(77, 224, 224, 3)\n",
            "(78, 224, 224, 3)\n",
            "(79, 224, 224, 3)\n",
            "(80, 224, 224, 3)\n",
            "(81, 224, 224, 3)\n",
            "(82, 224, 224, 3)\n",
            "(83, 224, 224, 3)\n",
            "(84, 224, 224, 3)\n",
            "(11, 250, 1280)\n",
            "(2, 224, 224, 3)\n",
            "(3, 224, 224, 3)\n",
            "(4, 224, 224, 3)\n",
            "(5, 224, 224, 3)\n",
            "(6, 224, 224, 3)\n",
            "(7, 224, 224, 3)\n",
            "(8, 224, 224, 3)\n",
            "(9, 224, 224, 3)\n",
            "(10, 224, 224, 3)\n",
            "(11, 224, 224, 3)\n",
            "(12, 224, 224, 3)\n",
            "(13, 224, 224, 3)\n",
            "(14, 224, 224, 3)\n",
            "(15, 224, 224, 3)\n",
            "(16, 224, 224, 3)\n",
            "(17, 224, 224, 3)\n",
            "(18, 224, 224, 3)\n",
            "(19, 224, 224, 3)\n",
            "(20, 224, 224, 3)\n",
            "(21, 224, 224, 3)\n",
            "(22, 224, 224, 3)\n",
            "(23, 224, 224, 3)\n",
            "(24, 224, 224, 3)\n",
            "(25, 224, 224, 3)\n",
            "(26, 224, 224, 3)\n",
            "(27, 224, 224, 3)\n",
            "(28, 224, 224, 3)\n",
            "(29, 224, 224, 3)\n",
            "(30, 224, 224, 3)\n",
            "(31, 224, 224, 3)\n",
            "(32, 224, 224, 3)\n",
            "(33, 224, 224, 3)\n",
            "(34, 224, 224, 3)\n",
            "(35, 224, 224, 3)\n",
            "(36, 224, 224, 3)\n",
            "(37, 224, 224, 3)\n",
            "(38, 224, 224, 3)\n",
            "(39, 224, 224, 3)\n",
            "(40, 224, 224, 3)\n",
            "(41, 224, 224, 3)\n",
            "(42, 224, 224, 3)\n",
            "(43, 224, 224, 3)\n",
            "(44, 224, 224, 3)\n",
            "(45, 224, 224, 3)\n",
            "(12, 250, 1280)\n",
            "(13, 250, 1280)\n"
          ],
          "name": "stdout"
        }
      ]
    },
    {
      "cell_type": "code",
      "metadata": {
        "id": "GubraMpDHFU-",
        "colab_type": "code",
        "outputId": "6e64b77d-7d7c-4037-f7f8-4d832542965e",
        "colab": {
          "base_uri": "https://localhost:8080/",
          "height": 34
        }
      },
      "source": [
        "file_batch.shape"
      ],
      "execution_count": 0,
      "outputs": [
        {
          "output_type": "execute_result",
          "data": {
            "text/plain": [
              "(13, 250, 1280)"
            ]
          },
          "metadata": {
            "tags": []
          },
          "execution_count": 239
        }
      ]
    },
    {
      "cell_type": "code",
      "metadata": {
        "id": "rYnn2utxJJOF",
        "colab_type": "code",
        "colab": {}
      },
      "source": [
        "np.save(\"./image_embedding.npy\", file_batch)"
      ],
      "execution_count": 0,
      "outputs": []
    },
    {
      "cell_type": "code",
      "metadata": {
        "id": "gkyDesRjJcd6",
        "colab_type": "code",
        "outputId": "4d531d5c-baf7-41a4-dc65-a01d47e98fc4",
        "colab": {
          "base_uri": "https://localhost:8080/",
          "height": 164
        }
      },
      "source": [
        "np.load(\"./image_embedding_bak.npy\")[3]"
      ],
      "execution_count": 42,
      "outputs": [
        {
          "output_type": "error",
          "ename": "IndexError",
          "evalue": "ignored",
          "traceback": [
            "\u001b[0;31m---------------------------------------------------------------------------\u001b[0m",
            "\u001b[0;31mIndexError\u001b[0m                                Traceback (most recent call last)",
            "\u001b[0;32m<ipython-input-42-8decbccd8983>\u001b[0m in \u001b[0;36m<module>\u001b[0;34m()\u001b[0m\n\u001b[0;32m----> 1\u001b[0;31m \u001b[0mnp\u001b[0m\u001b[0;34m.\u001b[0m\u001b[0mload\u001b[0m\u001b[0;34m(\u001b[0m\u001b[0;34m\"./image_embedding_bak.npy\"\u001b[0m\u001b[0;34m)\u001b[0m\u001b[0;34m[\u001b[0m\u001b[0;36m3\u001b[0m\u001b[0;34m]\u001b[0m\u001b[0;34m\u001b[0m\u001b[0;34m\u001b[0m\u001b[0m\n\u001b[0m",
            "\u001b[0;31mIndexError\u001b[0m: index 3 is out of bounds for axis 0 with size 3"
          ]
        }
      ]
    },
    {
      "cell_type": "code",
      "metadata": {
        "id": "h9zp2pRyJoHV",
        "colab_type": "code",
        "colab": {}
      },
      "source": [
        "import tensorflow as tf\n"
      ],
      "execution_count": 0,
      "outputs": []
    },
    {
      "cell_type": "code",
      "metadata": {
        "id": "4Nkj0e4pQz45",
        "colab_type": "code",
        "outputId": "dc0497c8-8ac8-4234-bd9b-7581d08c7767",
        "colab": {
          "base_uri": "https://localhost:8080/",
          "height": 34
        }
      },
      "source": [
        "tf.__version__"
      ],
      "execution_count": 0,
      "outputs": [
        {
          "output_type": "execute_result",
          "data": {
            "text/plain": [
              "'1.15.0'"
            ]
          },
          "metadata": {
            "tags": []
          },
          "execution_count": 244
        }
      ]
    },
    {
      "cell_type": "code",
      "metadata": {
        "id": "1wXFmud-Q2C_",
        "colab_type": "code",
        "colab": {}
      },
      "source": [
        ""
      ],
      "execution_count": 0,
      "outputs": []
    }
  ]
}